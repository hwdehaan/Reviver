{
 "cells": [
  {
   "cell_type": "code",
   "execution_count": 1,
   "id": "6eecbb5a-6584-436b-bd73-a6a1dbb5a891",
   "metadata": {
    "editable": true,
    "slideshow": {
     "slide_type": ""
    },
    "tags": [
     "hide"
    ]
   },
   "outputs": [],
   "source": [
    "# Imports"
   ]
  },
  {
   "cell_type": "code",
   "execution_count": 2,
   "id": "ce326f8d-1ad8-4d09-b890-b7ed6b7ee2c5",
   "metadata": {
    "editable": true,
    "slideshow": {
     "slide_type": ""
    },
    "tags": []
   },
   "outputs": [],
   "source": [
    "#from IPython.display import Image\n",
    "#from IPython.display import Video\n",
    "import numpy as np\n",
    "#import matplotlib.pyplot as plt\n",
    "#import numpy as np\n",
    "#import pandas as pd\n",
    "#import os\n",
    "#import sys\n",
    "#import math\n",
    "from PIL import Image as IPIL\n",
    "from numpy import asarray\n",
    "import random as pyrand\n",
    "\n",
    "#from IPython.display import Image\n",
    "import pygtrie"
   ]
  },
  {
   "cell_type": "code",
   "execution_count": 3,
   "id": "4568b325-996f-4d50-b8e4-9bcde6ae154e",
   "metadata": {
    "editable": true,
    "slideshow": {
     "slide_type": ""
    },
    "tags": [
     "hide"
    ]
   },
   "outputs": [],
   "source": [
    "# Set Parameters"
   ]
  },
  {
   "cell_type": "code",
   "execution_count": 4,
   "id": "c6d8b852-a4b5-45b8-9a3f-c5d381b6967f",
   "metadata": {
    "editable": true,
    "slideshow": {
     "slide_type": ""
    },
    "tags": []
   },
   "outputs": [],
   "source": [
    "\n",
    "\n",
    "img_name = 'triangle.bmp'\n",
    "img_name = 'circle_1.bmp'\n",
    "\n",
    "#cgsizerow = 30\n",
    "#cgsizecol = 15\n",
    "\n",
    "fill_int='.'\n",
    "fill_ext='.'\n",
    "len_ext_fill = 0\n",
    "\n",
    "#Nbigrows = 1\n",
    "#Nbigcols = 3\n",
    "\n",
    "tmax=1000\n",
    "\n",
    "#Nalch=1\n",
    "\n",
    "Nlayers=6\n",
    "laymask = 0\n",
    "laymod = 1\n",
    "layfoundword = 2 \n",
    "layforgenword = 3\n",
    "layseed = 4\n",
    "layseedlen = 5\n",
    "\n",
    "# mint\n",
    "# mint[0][ir][ic] : ISinmask       0: no, 1: yes\n",
    "# mint[1][ir][ic] : ISmod          0: unchanged, 1: changed\n",
    "# mint[2][ir][ic] : ISfoundword    0:no, 1: yes\n",
    "\n",
    "# mint[3][ir][ic] : ISforgenword   0:no, 1-9: index in forgen word\n",
    "# mint[4][ir][ic] : ISseed         0: no, 1: pot seed, 2: active seed, 3: ded seed\n",
    "# mint[5][ir][ic] : ISseed         0: no, 1: pot seed, 2: active seed, 3: ded seed"
   ]
  },
  {
   "cell_type": "code",
   "execution_count": 5,
   "id": "d8591762-e78b-468e-8726-8352c7690a82",
   "metadata": {
    "editable": true,
    "slideshow": {
     "slide_type": ""
    },
    "tags": [
     "hide"
    ]
   },
   "outputs": [],
   "source": [
    "# Trie, aux func, classes"
   ]
  },
  {
   "cell_type": "code",
   "execution_count": 6,
   "id": "f62c50a9-1105-4455-ac0c-d38f47933f05",
   "metadata": {},
   "outputs": [],
   "source": [
    "#def load_words():\n",
    "#    with open('words_alpha.txt') as word_file:\n",
    "#        valid_words = set(word_file.read().split())\n",
    "#    return valid_words\n",
    "\n",
    "from varname import argname\n",
    "#import varname\n",
    "\n",
    "with open('google-10000-english-usa.txt') as word_file:\n",
    "        valid_words = set(word_file.read().split())\n",
    "\n",
    "def fcheckword(this_word):\n",
    "    return (this_word in valid_words)\n",
    "\n",
    "#print(fcheckword('tw'))\n",
    "\n",
    "\n",
    "trie = pygtrie.CharTrie()\n",
    "for word in valid_words:\n",
    "    trie[word] = True\n",
    "\n",
    "my_variable = \"example\"\n",
    "var_info = f'{my_variable=}'\n",
    "var_name = var_info.split('=')[0]\n",
    "#print(var_name)\n",
    "\n",
    "#def PR(**args):\n",
    "def PR(*args,end='\\n',flush=False):    \n",
    "    sout = ''\n",
    "    i=0\n",
    "    for arg in args:\n",
    "        li_vname = argname('*args')\n",
    "        sout += li_vname[i] + ': ' + str(arg) + '    '\n",
    "        i+=1\n",
    "    print(sout,end=end)\n",
    "\n",
    "#test = 5\n",
    "#ghost = 3.7\n",
    "#gname = 'ghost'\n",
    "\n",
    "#PR(test,ghost,gname, end='', flush=True)\n",
    "        \n",
    "\n",
    "\n",
    "\n",
    "#class color:\n",
    "#    DARKCYAN = '\\033[36m'\n",
    "#    RED = '\\033[91m'\n",
    "#    GREEN = '\\033[92m'\n",
    "#    YELLOW = '\\033[93m'\n",
    "#    BLUE = '\\033[94m'\n",
    "#    PURPLE = '\\033[95m'\n",
    "#    CYAN = '\\033[96m'       \n",
    "#    BOLD = '\\033[1m'\n",
    "#    UNDERLINE = '\\033[4m'\n",
    "#    END = '\\033[0m'\n",
    "\n",
    "class color:\n",
    "    Bold       = \"\\033[1m\"\n",
    "    Dim        = \"\\033[2m\"\n",
    "    Underlined = \"\\033[4m\"\n",
    "    Blink      = \"\\033[5m\"\n",
    "    Reverse    = \"\\033[7m\"\n",
    "    Hidden     = \"\\033[8m\"\n",
    "    ResetAll   = \"\\033[0m\"\n",
    "\n",
    "    Default      = \"\\033[39m\"\n",
    "    Black        = \"\\033[30m\"\n",
    "    Red          = \"\\033[31m\"\n",
    "    Green        = \"\\033[32m\"\n",
    "    Yellow       = \"\\033[33m\"\n",
    "    Blue         = \"\\033[34m\"\n",
    "    Magenta      = \"\\033[35m\"\n",
    "    Cyan         = \"\\033[36m\"\n",
    "    LightGray    = \"\\033[37m\"\n",
    "    DarkGray     = \"\\033[90m\"\n",
    "    LightRed     = \"\\033[91m\"\n",
    "    LightGreen   = \"\\033[92m\"\n",
    "    LightYellow  = \"\\033[93m\"\n",
    "    LightBlue    = \"\\033[94m\"\n",
    "    LightMagenta = \"\\033[95m\"\n",
    "    LightCyan    = \"\\033[96m\"\n",
    "    White        = \"\\033[97m\"\n",
    "\n",
    "#print('')\n",
    "#stest = 'ripe'\n",
    "#print(trie.has_key(stest))\n",
    "#print(trie.has_node(stest))\n",
    "#print(trie.has_subtrie(stest))\n",
    "#print(trie.keys(prefix=stest))"
   ]
  },
  {
   "cell_type": "code",
   "execution_count": 7,
   "id": "d59495a6-4a68-4102-a066-f79eb18bebba",
   "metadata": {
    "editable": true,
    "slideshow": {
     "slide_type": ""
    },
    "tags": [
     "hide"
    ]
   },
   "outputs": [],
   "source": [
    "# Words & Images"
   ]
  },
  {
   "cell_type": "code",
   "execution_count": 8,
   "id": "87cd508a-84c5-4f8b-aa44-ffdaacd18a3f",
   "metadata": {},
   "outputs": [],
   "source": [
    "li_imgname = []\n",
    "li_imgname.append('triangle.bmp')\n",
    "li_imgname.append('circle_1.bmp')\n",
    "li_imgname.append('diamonds-tile01.bmp')\n",
    "li_imgname.append('one-diamond-tile01.bmp')\n",
    "#li_imgname.append('L-square-tile01.bmp')\n",
    "li_imgname.append('rectangles-tile01.bmp')\n",
    "li_imgname.append('star01.bmp')\n",
    "li_imgname.append('L-corner-tile01.bmp')\n",
    "li_imgname.append('tile-star-tess01.bmp')\n",
    "#imgname = li_imgname[ishape]\n",
    "\n",
    "\n",
    "li_poem=[]\n",
    "spoem = 'reviver,waking_is_possible__,you_can_hear_the_space_in_words__'\n",
    "li_poem.append(spoem)\n",
    "\n",
    "spoem = 'you and now,a_regress_of_spheres_progressing__,hands_clasped__,bridging_the_voids__,between__,blood_travels_forward__,hope_travels_back__'\n",
    "li_poem.append(spoem)\n",
    "\n",
    "spoem  = 'level, snow_fields__,hide_and_reveal__,surface-depth__,always_already_there__'\n",
    "li_poem.append(spoem)\n",
    "\n",
    "spoem='eve, listen_for__,dreams_of_plants__,the_night_of_winter_solstice__'\n",
    "li_poem.append(spoem)\n",
    "\n",
    "spoem='tenet, at_night-time__,answers_are_simply_given__,they_taper_to_thin_whispers__'\n",
    "li_poem.append(spoem)"
   ]
  },
  {
   "cell_type": "code",
   "execution_count": 9,
   "id": "f9eaf2cb-0455-4ffd-a854-66b68e9943e3",
   "metadata": {
    "editable": true,
    "slideshow": {
     "slide_type": ""
    },
    "tags": [
     "hide"
    ]
   },
   "outputs": [],
   "source": [
    "# Functions"
   ]
  },
  {
   "cell_type": "code",
   "execution_count": 10,
   "id": "7e00b494-0e09-44b6-84b4-4750c2451e84",
   "metadata": {
    "editable": true,
    "slideshow": {
     "slide_type": ""
    },
    "tags": []
   },
   "outputs": [],
   "source": [
    "## do image proc"
   ]
  },
  {
   "cell_type": "code",
   "execution_count": 11,
   "id": "a93ee0d7-1256-4645-9b59-a883b2832efb",
   "metadata": {},
   "outputs": [],
   "source": [
    "def fdoimageproc(img_name):\n",
    "    img = IPIL.open(img_name) # Load image\n",
    "    \n",
    "    global imgarray \n",
    "    imgarray = asarray(img)\n",
    "    \n",
    "    Nrowimg=int(imgarray.shape[0])\n",
    "    Ncolimg=int(imgarray.shape[1])\n",
    "\n",
    "    return Nrowimg, Ncolimg, imgarray"
   ]
  },
  {
   "cell_type": "code",
   "execution_count": 12,
   "id": "368534d2-7b8d-4b46-9a4d-9d91bec0b091",
   "metadata": {
    "editable": true,
    "slideshow": {
     "slide_type": ""
    },
    "tags": [
     "hide"
    ]
   },
   "outputs": [],
   "source": [
    "## do mask"
   ]
  },
  {
   "cell_type": "code",
   "execution_count": 13,
   "id": "6d3cbf67-dd09-4774-888a-3add41f1fa9c",
   "metadata": {},
   "outputs": [],
   "source": [
    "def fdomask(tNumb):     \n",
    "    mtemp = np.zeros((tNumb.Nrowtot+1,tNumb.Ncoltot+1),dtype=int)\n",
    "    \n",
    "    irowmask = 0\n",
    "    icolmask = 0\n",
    "    \n",
    "    for irow in range(0,1000):\n",
    "        if irow % tNumb.chunkrow == 0:\n",
    "            icolmask = 0\n",
    "            for icol in range(0,1000):            \n",
    "                if icol%tNumb.chunkcol==0:\n",
    "                    if icolmask < tNumb.Ncoltot:                           #why is this necessary?\n",
    "                        if imgarray[irow,icol,0] > 128:\n",
    "                            mask[irowmask,icolmask]=0\n",
    "                        else:\n",
    "                            mask[irowmask,icolmask]=1  \n",
    "                    icolmask += 1\n",
    "            irowmask+=1            \n",
    "    \n",
    "    for ibigrow in range(0,thisI.Nbigrows):\n",
    "        rowoffset = tNumb.Nrowtile*ibigrow\n",
    "        for irow in range(0,tNumb.Nrowtile):\n",
    "            iactrow =  rowoffset + irow\n",
    "            for ibigcol in range(0,thisI.Nbigcols):  \n",
    "                coloffset = tNumb.Ncoltile*ibigcol\n",
    "                for icol in range(0,tNumb.Ncoltile):\n",
    "                    iactcol = coloffset + icol\n",
    "                    mtemp[iactrow,iactcol] = mask[irow,icol]\n",
    "\n",
    "    \n",
    "    return mask, mtemp"
   ]
  },
  {
   "cell_type": "code",
   "execution_count": 14,
   "id": "4d4cfe47-06ad-43aa-b110-3f8fc2a3870c",
   "metadata": {
    "editable": true,
    "slideshow": {
     "slide_type": ""
    },
    "tags": [
     "hide"
    ]
   },
   "outputs": [],
   "source": [
    "## make text"
   ]
  },
  {
   "cell_type": "code",
   "execution_count": 15,
   "id": "80ba551c-12be-4929-a93b-158d57984217",
   "metadata": {},
   "outputs": [],
   "source": [
    "def fmaketext(icase, tNumb):       \n",
    "    curr_shape=0\n",
    "\n",
    "    words=thisI.poemwords\n",
    "\n",
    "    Ntiles = thisI.Nbigrows*thisI.Nbigcols\n",
    "    Nwords = len(words)\n",
    "    i_inword = np.zeros(Ntiles,dtype=int)      #current index in word per tile\n",
    "    \n",
    "    Nblankrows=0\n",
    "    iword = 0\n",
    "    if icase == 1:\n",
    "        blankline=''\n",
    "        for iblank in range(0,Ncolscreen):\n",
    "            blankline+='.'\n",
    "        for irow in range(0,2):\n",
    "            li_fulltext.append(blankline)\n",
    "        for ipoemline in range(1,Nwords):\n",
    "            words[0] += words[ipoemline]\n",
    "    for kk in range(0,thisI.Nbigrows):          \n",
    "        for i in range(0,tNumb.Nrowtile):\n",
    "            this_line=''\n",
    "            IS_blankrow = True\n",
    "            for k in range(0,thisI.Nbigcols):           \n",
    "                itile = kk*thisI.Nbigcols+k\n",
    "                itiletxt = itile\n",
    "                while itiletxt >= len(words):                                         #catch need to start from poem beginning again b/c Ntile > Npoemline\n",
    "                    itiletxt=itiletxt-len(words)\n",
    "                for j in range(0,tNumb.Ncoltile):\n",
    "                    if mask[i,j] == 0:\n",
    "                        this_line = this_line + fill_int\n",
    "                    else:\n",
    "                        IS_blankrow = False\n",
    "                        this_line += words[itiletxt][i_inword[itile]]\n",
    "                        i_inword[itile] += 1\n",
    "                        if i_inword[itile] >= ( len(words[itiletxt]) ):\n",
    "                            i_inword[itile]=0\n",
    "            if IS_blankrow:\n",
    "                Nblankrows+=1\n",
    "                thisblankrow = this_line\n",
    "            if kk == 1 and thisI.IS_altrowoffset:\n",
    "                li_this_line = list(this_line)\n",
    "                loctemp = []\n",
    "                for iitem in range(0,len(li_this_line)):\n",
    "                    loctemp.append(li_this_line[iitem])\n",
    "                colshift = int(tNumb.Ncoltile/2.0)\n",
    "                for icol in range(0,thisI.Nbigcols*tNumb.Ncoltile-colshift):\n",
    "                    li_this_line[icol] = loctemp[icol+colshift]\n",
    "                for icol in range(0,colshift):\n",
    "                    li_this_line[icol+thisI.Nbigcols*tNumb.Ncoltile-colshift] = loctemp[icol]                    \n",
    "                this_line = ''.join(li_this_line)\n",
    "\n",
    "            if thisI.IS_noblankrow:\n",
    "                if not IS_blankrow: \n",
    "                    li_fulltext.append(this_line)\n",
    "            else:\n",
    "                li_fulltext.append(this_line)\n",
    "    for irow in range(0,Nblankrows):\n",
    "        li_fulltext.append(thisblankrow)\n",
    "    if icase == 1:\n",
    "        for irow in range(0,3):\n",
    "            li_fulltext.append(blankline)\n",
    "\n",
    "    \n",
    "    return li_fulltext"
   ]
  },
  {
   "cell_type": "code",
   "execution_count": 16,
   "id": "ac07765d-d125-46e9-9256-7bb84c8fc963",
   "metadata": {
    "editable": true,
    "slideshow": {
     "slide_type": ""
    },
    "tags": [
     "hide"
    ]
   },
   "outputs": [],
   "source": [
    "## write HTML"
   ]
  },
  {
   "cell_type": "code",
   "execution_count": 17,
   "id": "cadc8d4b-2a61-49d3-b411-39672d969e5e",
   "metadata": {},
   "outputs": [],
   "source": [
    "def fdoHTML(pagename):\n",
    "    fout = open(pagename,'w')\n",
    "    \n",
    "    fout.write('<HTML>\\n')\n",
    "    \n",
    "    fout.write('<HEAD>\\n')\n",
    "    fout.write('<style> h1 {font-size: ' + str(nfontsize) + 'em; font-family: courier; font-style: regular; font-weight: normal;}')\n",
    "    fout.write('html, body {margin: 0; height: 100%; overflow: hidden}')\n",
    "    fout.write('</style>\\n')\n",
    "    fout.write('</HEAD>\\n')\n",
    "    \n",
    "    fout.write('<BODY>')\n",
    "    #fout.write('<CENTER>\\n')\n",
    "    fout.write('<H1>\\n')\n",
    "\n",
    "    #fout.write('<A href=\"./stat_reviver.html\">reviver</A>&nbsp;&nbsp;')\n",
    "    #fout.write('<A href=\"./stat_youandthen.html\">you and then</A>&nbsp;&nbsp;')\n",
    "    #fout.write('</BR>')\n",
    "\n",
    "    iline = 0\n",
    "    IS_linkline  = False\n",
    "    for this_line in li_fulltext:\n",
    "        IS_linkline  = False\n",
    "        if iline == 7:\n",
    "            fout.write('<A href=\"./stat_reviver.html\">reviver</A>&nbsp;&nbsp;&nbsp;&nbsp;&nbsp;&nbsp;')\n",
    "            IS_linkline = True\n",
    "        if iline == 10:\n",
    "            fout.write('<A href=\"./stat_youandthen.html\">you and then</A>&nbsp;')\n",
    "            IS_linkline = True\n",
    "        if iline == 13:\n",
    "            fout.write('<A href=\"./stat_level.html\">level</A>&nbsp;&nbsp;&nbsp;&nbsp;&nbsp;&nbsp;&nbsp;&nbsp;')\n",
    "            IS_linkline = True  \n",
    "        if iline == 16:\n",
    "            fout.write('<A href=\"./stat_eve.html\">eve</A>&nbsp;&nbsp;&nbsp;&nbsp;&nbsp;&nbsp;&nbsp;&nbsp;&nbsp;&nbsp;')\n",
    "            IS_linkline = True \n",
    "        if iline == 19:\n",
    "            fout.write('<A href=\"./stat_tenet.html\">tenet</A>&nbsp;&nbsp;&nbsp;&nbsp;&nbsp;&nbsp;&nbsp;&nbsp;')\n",
    "            IS_linkline = True             \n",
    "        if not IS_linkline:\n",
    "            fout.write('&nbsp;&nbsp;&nbsp;&nbsp;&nbsp;&nbsp;&nbsp;&nbsp;&nbsp;&nbsp;&nbsp;&nbsp;&nbsp;')            \n",
    "        for ijk in range(0,len(this_line)):\n",
    "            fout.write(this_line[ijk])\n",
    "        fout.write('</BR>\\n')\n",
    "        iline+=1\n",
    "\n",
    "    fout.write('</H1>\\n')\n",
    "    fout.write('</BODY>\\n')\n",
    "    \n",
    "    fout.write('</HTML>\\n')\n",
    "    \n",
    "    fout.close()\n",
    "        "
   ]
  },
  {
   "cell_type": "code",
   "execution_count": 18,
   "id": "b5297ff2-bc78-4163-b23c-d6f72a4787da",
   "metadata": {
    "editable": true,
    "slideshow": {
     "slide_type": ""
    },
    "tags": [
     "hide"
    ]
   },
   "outputs": [],
   "source": [
    "## load bigram probs"
   ]
  },
  {
   "cell_type": "code",
   "execution_count": 19,
   "id": "6c3b17f5-da57-4df7-b6a5-63f96def671e",
   "metadata": {},
   "outputs": [],
   "source": [
    "BG=open('bigram_A.txt','r')\n",
    "\n",
    "nbg=np.zeros((26,26))\n",
    "\n",
    "#            0 1 2 3 4 5 6 7 8 9 1 1 2 3 4 5 6 7 8 9 2 1 2 3 4 5 \n",
    "salphabet = 'a b c d e f g h i j k l m n o p q r s t u v w x y z'\n",
    "msalphabet = salphabet.split()\n",
    "\n",
    "iline=0\n",
    "for this_line in BG:\n",
    "    this_words = this_line.split()\n",
    "    for icol in range(0,26):\n",
    "        thisrow=ord( this_words[icol*2][0].lower() )  - 97\n",
    "        thiscol=ord( this_words[icol*2][1].lower() )  - 97\n",
    "        nbg[thisrow,thiscol] = this_words[icol*2+1]\n",
    "    iline += 1\n",
    "\n",
    "if 1 == 0:\n",
    "    print('{:6}'.format(' ') + ' ',end='')\n",
    "    for irow in range(0,26):\n",
    "        print('{:6}'.format(msalphabet[irow]) + ' ',end='')\n",
    "    print('')\n",
    "        \n",
    "    for irow in range(0,26):\n",
    "        print('{:6}'.format(msalphabet[irow]) + ' ',end='')\n",
    "        for icol in range(0,26):\n",
    "            print('{:5.4f}'.format(nbg[irow,icol]) + ' ',end='')\n",
    "        print('')\n",
    "    \n",
    "    this_comb = np.zeros(26)\n",
    "    this_psum = np.zeros(26)\n"
   ]
  },
  {
   "cell_type": "code",
   "execution_count": 20,
   "id": "c86238a7-eae9-4e80-afcb-3c55f4ed3872",
   "metadata": {
    "editable": true,
    "slideshow": {
     "slide_type": ""
    },
    "tags": [
     "hide"
    ]
   },
   "outputs": [],
   "source": [
    "## find new words"
   ]
  },
  {
   "cell_type": "code",
   "execution_count": 21,
   "id": "a1805d94-4675-431e-9a47-9656e9c9227b",
   "metadata": {},
   "outputs": [],
   "source": [
    "def ffindnewwords(IS_first,plist_startwords, mIS_foundword, tNumb):\n",
    "\n",
    "    list_newwords = []\n",
    "    \n",
    "    if IS_first:\n",
    "        plist_startwords = []\n",
    "    \n",
    "    for irow in range(0,tNumb.Nrowtot-1):\n",
    "        Nlettinword=np.zeros(tNumb.Ncoltot,dtype='int')\n",
    "        for icol in range(1,tNumb.Ncoltot-1):\n",
    "            if mIS_foundword[irow,icol] == 0 and mIS_foundword[irow,icol-1] == 0:\n",
    "                this_lettinword = 0\n",
    "                this_str=''\n",
    "                this_word=''\n",
    "                if mfulltext[irow,icol].isalpha():\n",
    "                               \n",
    "                    this_str = mfulltext[irow,icol]                     #start char is alpha, so set this_str and Nlettersinword\n",
    "                    this_lettinword = 1 \n",
    "                    IS_prefix = True\n",
    "                    IS_word = False\n",
    "                    while(IS_prefix):                                #loop so find longest word starting with this char\n",
    "                        prev_str = this_str                         #previous str before add more chars \n",
    "                        IS_prefix = False\n",
    "    \n",
    "                        if icol+this_lettinword < tNumb.Ncoltot:\n",
    "                            nextchar = mfulltext[irow,icol+this_lettinword]\n",
    "                            if nextchar.isalpha():\n",
    "                                this_str += nextchar\n",
    "        \n",
    "                                if(trie.has_subtrie(this_str)):            #If is prefix, keep going to find longest\n",
    "                                    this_lettinword += 1\n",
    "                                    IS_prefix=True\n",
    "        \n",
    "                                if trie.has_key(this_str):                 #Check all strings if words (ie, even if not longest)\n",
    "                                    IS_word = True\n",
    "                                    if IS_first:\n",
    "                                        if this_str not in plist_startwords:\n",
    "                                            plist_startwords.append(this_str)\n",
    "    \n",
    "                    if not IS_first:\n",
    "                        if len(prev_str) > 2 and trie.has_key(prev_str):          #loop terminated so either longest word or prefix that is not a word\n",
    "                            if prev_str not in plist_startwords and prev_str not in list_newwords:\n",
    "                                #list_newwords.append(prev_str)\n",
    "                                #Nlettinword[icol] = this_lettinword\n",
    "                                for ilett in range(0,this_lettinword):\n",
    "                                        mIS_foundword[irow,icol+ilett] = 1\n",
    "    #print('')\n",
    "    return plist_startwords"
   ]
  },
  {
   "cell_type": "code",
   "execution_count": 22,
   "id": "c77ef40d-7917-4cd1-a7e7-7c15229dec99",
   "metadata": {
    "editable": true,
    "slideshow": {
     "slide_type": ""
    },
    "tags": [
     "hide"
    ]
   },
   "outputs": [],
   "source": [
    "## swap"
   ]
  },
  {
   "cell_type": "code",
   "execution_count": 23,
   "id": "25e3e569-a3a0-4486-86c3-73f534e04eb6",
   "metadata": {},
   "outputs": [],
   "source": [
    "def fswap(tNumb):\n",
    "    row1=int(rnGen.integers(low=0, high=tNumb.Nrowtot))\n",
    "    col1=int(rnGen.integers(low=0, high=tNumb.Ncoltot))\n",
    "   \n",
    "    row2=int(rnGen.integers(low=0, high=tNumb.Nrowtot))\n",
    "    col2=int(rnGen.integers(low=0, high=tNumb.Ncoltot)) \n",
    "    temp = mfulltext[row1,col1]\n",
    "    if IS_swapon:\n",
    "        mfulltext[row1,col1]=mfulltext[row2,col2]\n",
    "        mfulltext[row2,col2]=temp"
   ]
  },
  {
   "cell_type": "code",
   "execution_count": 24,
   "id": "cab60834-b493-44ca-b28f-24b06ac7c616",
   "metadata": {
    "editable": true,
    "slideshow": {
     "slide_type": ""
    },
    "tags": [
     "hide"
    ]
   },
   "outputs": [],
   "source": [
    "## alch"
   ]
  },
  {
   "cell_type": "code",
   "execution_count": 25,
   "id": "a9f6771e-14f7-41d8-9bd4-1a34624ff304",
   "metadata": {},
   "outputs": [],
   "source": [
    "def falch(tNumb):\n",
    "    \n",
    "    testrow=int(rnGen.integers(low=1, high=tNumb.Nrowtot-1))\n",
    "    testcol=int(rnGen.integers( low=1, high=tNumb.Ncoltot-1 ) )   \n",
    "\n",
    "    this_char = mfulltext[testrow,testcol]\n",
    "    left_char = mfulltext[testrow,testcol-1]\n",
    "    righ_char = mfulltext[testrow,testcol+1]\n",
    "    \n",
    "    this_alphind = ord(this_char) - 97\n",
    "    left_alphind = ord(left_char) - 97\n",
    "    righ_alphind = ord(righ_char) - 97\n",
    "\n",
    "    loc_Nmod = 0\n",
    "    this_psum = np.zeros(26)\n",
    "    if left_alphind >=0 and left_alphind <26:\n",
    "        if righ_alphind >=0 and righ_alphind <26:\n",
    "\n",
    "            this_psum[0] = 0.0\n",
    "            for ilett in range(1,26):\n",
    "                pforw = nbg[left_alphind,ilett]\n",
    "                pback = nbg[ilett,righ_alphind]\n",
    "                this_psum[ilett] = this_psum[ilett-1] + nbg[left_alphind,ilett]*nbg[ilett,righ_alphind]\n",
    "                \n",
    "            psumtot = this_psum[26-1]\n",
    "\n",
    "            rand = rnGen.random()*psumtot\n",
    "\n",
    "            for ilett in range(0,25):\n",
    "                if rand > this_psum[ilett] and rand <=  this_psum[ilett+1]:\n",
    "                    new_char = chr(ilett+97+1)\n",
    "                    mfulltext[testrow,testcol] = new_char\n",
    "                    loc_Nmod += 1\n",
    "                    mint[laymod,testrow,testcol] = 1\n",
    "    return mint[laymod],mfulltext,loc_Nmod"
   ]
  },
  {
   "cell_type": "code",
   "execution_count": 26,
   "id": "5610743b-eb13-4c80-9d05-925ff250feef",
   "metadata": {
    "editable": true,
    "slideshow": {
     "slide_type": ""
    },
    "tags": [
     "hide"
    ]
   },
   "outputs": [],
   "source": [
    "## grow forward"
   ]
  },
  {
   "cell_type": "code",
   "execution_count": 27,
   "id": "0db258f7-63ff-4da9-b9e8-97ec3d9ac7f9",
   "metadata": {
    "editable": true,
    "slideshow": {
     "slide_type": ""
    },
    "tags": []
   },
   "outputs": [],
   "source": [
    "def fgrowforward(itime,tNumb):\n",
    "\n",
    "    pnewseed=0.1\n",
    "\n",
    "    irowpick = -1\n",
    "    icolpick = -1\n",
    "    \n",
    "    IS_new_seed = False     \n",
    "    rand = rnGen.random()\n",
    "    if rand < pnewseed:\n",
    "        IS_new_seed = True\n",
    "\n",
    "    Npotseed = 0\n",
    "    if IS_new_seed:        \n",
    "        li_possseed=[]                                                    #Find pot seeds      \n",
    "        for irow in range(0,tNumb.Nrowtot):\n",
    "            for icol in range(1,tNumb.Ncoltot-1):\n",
    "                cond1 = ( mfulltext[irow,icol-1] =='_' and mfulltext[irow,icol].isalpha() )\n",
    "                #cond2 = (mfulltext[irow,icol-1] =='.' and mfulltext[irow,icol].isalpha())\n",
    "                cond3 = (mint[layseed,irow,icol] < 2)\n",
    "                if cond1 and cond3:\n",
    "                        mint[layseed,irow,icol] = 1\n",
    "                        li_possseed.append((irow,icol))          \n",
    "                        Npotseed += 1\n",
    "                \n",
    "        if Npotseed > 0:\n",
    "            rand = rnGen.integers(0,Npotseed)             #Turn on pot seed\n",
    "            irowpick = li_possseed[rand][0]\n",
    "            icolpick = li_possseed[rand][1]\n",
    "            mint[laymod,irowpick,icolpick] = 1\n",
    "            mint[layseed,irowpick,icolpick] = 2\n",
    "            mint[layseedlen,irowpick,icolpick] = 0\n",
    "\n",
    "    li_actiseed = []\n",
    "    Nactiseed = 0                                                           #Find active seeds\n",
    "    for irow in range(0,tNumb.Nrowtot):\n",
    "        for icol in range(0,tNumb.Ncoltot):\n",
    "            if mint[layseed,irow,icol] == 2 :\n",
    "                li_actiseed.append((irow,icol))\n",
    "                Nactiseed+=1\n",
    "    \n",
    "    if Nactiseed > 0:\n",
    "        seedrow=0\n",
    "        seedcol=0\n",
    "        for iseed in range(0,Nactiseed):                                    #loop over active seeds\n",
    "                seedrow=li_actiseed[iseed][0]\n",
    "                seedcol=li_actiseed[iseed][1]\n",
    "                seedlen = mint[layseedlen,seedrow,seedcol]\n",
    "\n",
    "                this_str='' \n",
    "                idelta = 0\n",
    "                for idelta in range(0,seedlen):\n",
    "                    this_str += mfulltext[seedrow,seedcol+idelta]\n",
    "                this_lastcol = seedcol+idelta\n",
    "                \n",
    "                if this_lastcol+1 < tNumb.Ncoltot:\n",
    "                    IS_cangrow = True                                         #check if forgenword can grow\n",
    "                    if mint[laymask,seedrow,this_lastcol+1] == 0:             #out of shape area so ded seed\n",
    "                        IS_cangrow = False\n",
    "                        mint[layseed,seedrow,seedcol] = 3\n",
    "                                                                       \n",
    "                    if mint[layseed,seedrow,this_lastcol+1] > 1:              #ran into another seed (active or ded) so ded\n",
    "                        IS_cangrow = False\n",
    "                        mint[layseed,seedrow,seedcol] = 3\n",
    "    \n",
    "                    if IS_cangrow:\n",
    "                        if trie.has_subtrie(this_str):                        #can grow, but is there a longer word or at end of branch?\n",
    "                            li_prefix = trie.items(this_str)                  #list of possibilities for this prefix\n",
    "                            if li_prefix[0] == this_str:\n",
    "                                rand = rnGen.integers(1,len(li_prefix))       #avoid picking shorter word (current this_str)\n",
    "                            else:\n",
    "                                rand = rnGen.integers(0,len(li_prefix))       #this_str has only 1 word, so grow to full length bit by bit\n",
    "                            this_word = li_prefix[rand][0]\n",
    "                            if len(this_word) > seedlen:                      #longer words so grow\n",
    "                                mfulltext[seedrow,seedcol+seedlen] = this_word[seedlen]\n",
    "                                mint[layseedlen,seedrow,seedcol] += 1\n",
    "                                mint[laymod,seedrow,seedcol+seedlen] = 1\n",
    "\n",
    "                        else:\n",
    "                            mint[layseed,seedrow,seedcol] = 3              #no longer words so ded\n",
    "                            IS_needclear = True\n",
    "                            icolsub = seedcol+seedlen\n",
    "                            while IS_needclear and icolsub < tNumb.Ncoltot:\n",
    "                                checkchar = mfulltext[seedrow,icolsub]\n",
    "                                if checkchar != '_' and checkchar != '.':\n",
    "                                    #mfulltext[seedrow,seedcol+seedlen+ineedclear] = '_'\n",
    "                                    mfulltext[seedrow,icolsub] = '_'\n",
    "                                else:\n",
    "                                    IS_needclear = False\n",
    "                                #ineedclear+=1\n",
    "                                icolsub+=1\n",
    "\n",
    "    return mfulltext, mint"
   ]
  },
  {
   "cell_type": "code",
   "execution_count": 28,
   "id": "03078682-5236-4167-8daf-dc2b3e715376",
   "metadata": {
    "editable": true,
    "slideshow": {
     "slide_type": ""
    },
    "tags": [
     "hide"
    ]
   },
   "outputs": [],
   "source": [
    "## choose content"
   ]
  },
  {
   "cell_type": "code",
   "execution_count": 29,
   "id": "a0ea295a-612b-4d06-835a-dfeac78db846",
   "metadata": {
    "editable": true,
    "slideshow": {
     "slide_type": ""
    },
    "tags": []
   },
   "outputs": [],
   "source": [
    "def fdochoosecontent(icase):\n",
    "    LocI=Inst()\n",
    "\n",
    "    if icase == 0:\n",
    "        LocI.Nbigrows = 2\n",
    "        LocI.Nbigcols = 3        \n",
    "        LocI.Npane=1 \n",
    "        LocI.Nalch = 10\n",
    "        LocI.IS_showmod = False\n",
    "        LocI.IS_showfoundword = True\n",
    "    if icase == 1:\n",
    "        LocI.Nbigrows = 1\n",
    "        LocI.Nbigcols = 1        \n",
    "        LocI.Npane=2\n",
    "        LocI.Nalch = 10\n",
    "        LocI.IS_showmod = False\n",
    "        LocI.IS_showfoundword = True        \n",
    "    if icase == 2:\n",
    "        LocI.Nbigrows = 2\n",
    "        LocI.Nbigcols = 3        \n",
    "        LocI.Npane=1\n",
    "        LocI.Nalch = 5\n",
    "        LocI.IS_showmod = True\n",
    "        LocI.IS_showfoundword = False\n",
    "    \n",
    "\n",
    "    LocI.imgname = li_imgname[ishape]\n",
    "\n",
    "    lipoemsplit = li_poem[ipoem].split(',')\n",
    "    LocI.poemtit = lipoemsplit[0]\n",
    "    LocI.poemwords = []\n",
    "    for iline in range(1,len(lipoemsplit)):\n",
    "        LocI.poemwords.append(lipoemsplit[iline])\n",
    "\n",
    "    LocI.IS_altrowoffset = False\n",
    "    LocI.IS_noblankrow = False\n",
    "    if ishape == 2:\n",
    "        LocI.IS_noblankrow = True    \n",
    "    if ishape == 5:\n",
    "        LocI.IS_altrowoffset = True\n",
    "        LocI.IS_noblankrow = True\n",
    "\n",
    "    return LocI"
   ]
  },
  {
   "cell_type": "code",
   "execution_count": 30,
   "id": "a81331f5-d1cc-41a1-ab53-07639b86e359",
   "metadata": {
    "editable": true,
    "slideshow": {
     "slide_type": ""
    },
    "tags": [
     "hide"
    ]
   },
   "outputs": [],
   "source": [
    "## print output"
   ]
  },
  {
   "cell_type": "code",
   "execution_count": 31,
   "id": "9ef2c84c-dabd-4820-b14e-11d2e14c4f45",
   "metadata": {
    "editable": true,
    "slideshow": {
     "slide_type": ""
    },
    "tags": []
   },
   "outputs": [],
   "source": [
    "def fprintoutput(itime,icase,tNumb):  \n",
    "            sintervaltime = str(int(itime/10.0)*10)\n",
    "            currscreen = ''\n",
    "            for irow in range(0,tNumb.Nrowtot):\n",
    "                if irow<41:\n",
    "                    this_line = ''\n",
    "                    for icol in range(0,tNumb.Ncolbuff):\n",
    "                        this_line += '.'\n",
    "                    for ipane in range(0,thisI.Npane):\n",
    "                        for icol in range(0,tNumb.Ncoltot):  \n",
    "                            IS_default = True\n",
    "                            if mint[layfoundword,irow,icol]==1:\n",
    "                                if thisI.IS_showfoundword:\n",
    "                                    this_line+=color.Blue+color.Bold+mfulltext[irow,icol]+color.ResetAll \n",
    "                                    IS_default = False\n",
    "                                                                   \n",
    "                            elif mint[laymod,irow,icol]>0:\n",
    "                                if thisI.IS_showmod:\n",
    "                                    this_line+=color.LightMagenta+color.Bold+mfulltext[irow,icol]+color.ResetAll\n",
    "                                    IS_default = False\n",
    "         \n",
    "                            if IS_default:\n",
    "                                if ipane == 1:                            \n",
    "                                    this_line += '.'\n",
    "                                else:\n",
    "                                    this_line += mfulltext[irow,icol]\n",
    "                    ilastcol=icol \n",
    "                    for icol in range(0,tNumb.Ncolbuff):\n",
    "                        this_line += '.'\n",
    "                    if irow==40:\n",
    "                        currscreen+=this_line\n",
    "                        #display(this_line)\n",
    "                        #print(this_line,flush=True)\n",
    "                    else:\n",
    "                        currscreen+=this_line+'\\n'\n",
    "                        #print(this_line)\n",
    "                        #display(this_line)\n",
    "                    ilastrow = irow\n",
    "                    #with out:\n",
    "                    #    print(this_line)\n",
    "            with wout:               \n",
    "                clear_output(wait=True)\n",
    "                print('live generation algorithm: ' + color.Yellow+color.Bold+mscase[icase]+color.ResetAll \n",
    "                      + '              random seed: ' + color.Yellow+color.Bold + rand_word +color.ResetAll  \n",
    "                      + '              poem: ' + color.Yellow+color.Bold + thisI.poemtit+color.ResetAll #)\n",
    "                        + '                                                            ' \n",
    "                      + color.Yellow+color.Bold + sintervaltime+color.ResetAll )                \n",
    "                print(currscreen,flush=True)\n",
    "                #display(currscreen)\n",
    "            #display(currscreen)\n",
    "            #for irow in range(ilastrow,Nrowscreen):\n",
    "            #    this_line = ''\n",
    "            #    for icol in range(0,Ncolscreen):\n",
    "            #        this_line += '.'                \n",
    "            #    print(this_line)"
   ]
  },
  {
   "cell_type": "code",
   "execution_count": 32,
   "id": "dae771d0-59aa-4359-8421-1168a608932a",
   "metadata": {
    "editable": true,
    "slideshow": {
     "slide_type": ""
    },
    "tags": [
     "hide"
    ]
   },
   "outputs": [],
   "source": [
    "## html setup"
   ]
  },
  {
   "cell_type": "code",
   "execution_count": 33,
   "id": "1b554858-aab2-42c8-9ee3-a1e71155ef9d",
   "metadata": {},
   "outputs": [],
   "source": [
    "def fhtmlsetup(ipair):\n",
    "\n",
    "    IS_keepgoing = True\n",
    "\n",
    "    if IS_htmlonly:\n",
    "        aspratrow = 28\n",
    "        aspratcol = 16    \n",
    "        nfontsize=1.5\n",
    "        \n",
    "        icase=1\n",
    "\n",
    "        if ipair ==0:\n",
    "            ishape=6\n",
    "            ipoem=0\n",
    "            shtmlfilename = 'stat_reviver.html'\n",
    "        if ipair ==1:    \n",
    "            ishape=1\n",
    "            ipoem=1    \n",
    "            shtmlfilename = 'stat_youandthen.html'\n",
    "        if ipair ==2:    \n",
    "            ishape=7\n",
    "            ipoem=2    \n",
    "            shtmlfilename = 'stat_level.html'\n",
    "        if ipair ==3:    \n",
    "            ishape=2\n",
    "            ipoem=3    \n",
    "            shtmlfilename = 'stat_eve.html'  \n",
    "        if ipair ==4:    \n",
    "            ishape=5\n",
    "            ipoem=4    \n",
    "            shtmlfilename = 'stat_tenet.html'\n",
    "            IS_keepgoing = False\n",
    "        \n",
    "        tmax = 1        \n",
    "\n",
    "        return aspratrow, aspratcol, nfontsize, icase, ishape, ipoem, shtmlfilename, tmax, IS_keepgoing"
   ]
  },
  {
   "cell_type": "code",
   "execution_count": 34,
   "id": "def8f807-628b-4d33-ace2-83b4da67fb3b",
   "metadata": {
    "editable": true,
    "slideshow": {
     "slide_type": ""
    },
    "tags": [
     "hide"
    ]
   },
   "outputs": [],
   "source": [
    "## classes"
   ]
  },
  {
   "cell_type": "code",
   "execution_count": 35,
   "id": "5c92f20e-2d02-4e88-aa72-72b34a556ad4",
   "metadata": {
    "editable": true,
    "slideshow": {
     "slide_type": ""
    },
    "tags": []
   },
   "outputs": [],
   "source": [
    "#Nbigrows, Nbigcols, Npane, Nalch, IS_showmod, IS_showfoundword \n",
    "\n",
    "#class Glob:\n",
    "#    ialgo = 0\n",
    "#    ishape = 0\n",
    "#    ipoem = 0\n",
    "#    ialgobeg = 0\n",
    "#    ialgoend = 3\n",
    "#    Nbigrows = 0\n",
    "#    Nbigcols = 0\n",
    "\n",
    "class Inst: \n",
    "    def __init__(self):\n",
    "        self.imgname = ''\n",
    "        self.poemtit = ''\n",
    "        self.poemwords = ''\n",
    "        Nbigrows = 1\n",
    "        Nbigcols = 1\n",
    "        self.Npane = 1\n",
    "        self.Nalch = 5\n",
    "        self.IS_altrowoffset = False\n",
    "        self.IS_noblankrow = False\n",
    "        self.IS_showmod = True\n",
    "        self.IS_showfoundword = True\n",
    "        \n",
    "class Numb: \n",
    "    def __init__(self):\n",
    "        self.chunkrow = 0\n",
    "        self.chunkcol = 0\n",
    "        self.Nrowtile = 0\n",
    "        self.Ncoltile = 0\n",
    "        self.Nrowtot = 0\n",
    "        self.Ncoltot = 0\n",
    "        self.Nrowbuff = 0\n",
    "        self.Ncolbuff = 0\n",
    "        self.full_text = []\n",
    "\n",
    "class State:\n",
    "    def __init__(self):\n",
    "        self.fulltext = ''"
   ]
  },
  {
   "cell_type": "code",
   "execution_count": 36,
   "id": "4298f1e9-5d8c-40b6-ad69-b523ecbebf21",
   "metadata": {
    "editable": true,
    "slideshow": {
     "slide_type": ""
    },
    "tags": [
     "hide"
    ]
   },
   "outputs": [],
   "source": [
    "## donumb"
   ]
  },
  {
   "cell_type": "code",
   "execution_count": 37,
   "id": "f8279f72-b787-417b-ae74-e70598e25c8d",
   "metadata": {
    "editable": true,
    "slideshow": {
     "slide_type": ""
    },
    "tags": []
   },
   "outputs": [],
   "source": [
    "def fdonumb(icase):\n",
    "\n",
    "    locNumb = Numb()\n",
    "    \n",
    "    global thisI\n",
    "    global Nrowtile\n",
    "    global Ncoltile\n",
    "    \n",
    "    thisI = fdochoosecontent(icase) ##########\n",
    "\n",
    "    locNumb.Nrowtile = int( float(Nrowscreen)/(float(thisI.Nbigrows)))\n",
    "    locNumb.Ncoltile = int( locNumb.Nrowtile*asprat )     \n",
    "\n",
    "    Nrowimg, Ncolimg, imgarray = fdoimageproc(thisI.imgname) ##########\n",
    "\n",
    "    locNumb.chunkrow = int( Nrowimg/float(locNumb.Nrowtile) )\n",
    "    locNumb.chunkcol = int( Ncolimg/float(locNumb.Ncoltile) )               \n",
    "    locNumb.Nrowtot = int( float(locNumb.Nrowtile)*thisI.Nbigrows )\n",
    "    locNumb.Ncoltot = int( float(locNumb.Ncoltile)*thisI.Nbigcols)   \n",
    "    locNumb.Ncolbuff = int((Ncolscreen - locNumb.Ncoltot*thisI.Npane)/2.0)\n",
    "    locNumb.Nrowbuff = int((Nrowscreen - locNumb.Nrowtot)/2.0)\n",
    "\n",
    "    return locNumb"
   ]
  },
  {
   "cell_type": "code",
   "execution_count": 38,
   "id": "e4f66997-92ff-4b42-a902-a65aafde4246",
   "metadata": {
    "editable": true,
    "slideshow": {
     "slide_type": ""
    },
    "tags": [
     "hide"
    ]
   },
   "outputs": [],
   "source": [
    "## run"
   ]
  },
  {
   "cell_type": "code",
   "execution_count": 39,
   "id": "c43a5796-8285-4fd6-96fc-cf048a566ab5",
   "metadata": {
    "editable": true,
    "slideshow": {
     "slide_type": ""
    },
    "tags": []
   },
   "outputs": [],
   "source": [
    "def fdorun():\n",
    "    \n",
    "    IS_keepgoing = True\n",
    "    ialgobeg=0\n",
    "    ialgoend=3\n",
    "\n",
    "    iiter = 0\n",
    "\n",
    "    global tmax\n",
    "    #print(tmax)\n",
    "    \n",
    "    tNumb = Numb()\n",
    "\n",
    "    global mint\n",
    "    global mask\n",
    "    global li_fulltext \n",
    "    global mfulltext\n",
    "\n",
    "    global ialgo\n",
    "    global ishape\n",
    "    global ipoem\n",
    "    \n",
    "    while IS_keepgoing:\n",
    "           \n",
    "        if IS_htmlonly:\n",
    "            aspratrow, aspratcol, nfontsize, icase, ishape, ipoem, shtmlfilename, tmax, IS_keepgoing = fhtmlsetup(ipair)\n",
    "            ipair += 1\n",
    "        \n",
    "        if not IS_manual:\n",
    "            ialgobeg=0\n",
    "            ialgoend=3\n",
    "            \n",
    "        for icase in range(ialgobeg,ialgoend):\n",
    "            if not IS_manual:\n",
    "                ialgo = 0\n",
    "                ishape = rnGen.integers(1,7)\n",
    "                ipoem = rnGen.integers(0,4)\n",
    "              \n",
    "            Nmod = 0\n",
    "            loc_Nmod = 0\n",
    "\n",
    "            tNumb = fdonumb(icase) ##############################\n",
    "\n",
    "            mint = np.zeros((Nlayers,tNumb.Nrowtot+1,tNumb.Ncoltot+1),dtype=int)\n",
    "            mint.fill(0)\n",
    "            mfulltext = np.zeros((tNumb.Nrowtot+1,tNumb.Ncoltot+1),dtype=str)        \n",
    "            mask=np.zeros((tNumb.Nrowtot+1,tNumb.Ncoltot+1),dtype=int)\n",
    "            mask, mint[laymask] = fdomask(tNumb) ##################################   \n",
    "            li_fulltext=[]\n",
    "            \n",
    "            li_fulltext = fmaketext(icase, tNumb) ##########\n",
    "            \n",
    "            for irow in range(0,tNumb.Nrowtot):\n",
    "                for icol in range(0,tNumb.Ncoltot):\n",
    "                    mfulltext[irow,icol] = li_fulltext[irow][icol]            \n",
    "            mfulltext_orig = mfulltext       \n",
    "    \n",
    "            if IS_htmlonly:\n",
    "                fdoHTML(shtmlfilename) ##########      \n",
    "            \n",
    "            list_startwords = ffindnewwords(True,[],mint[layfoundword],tNumb) ##########\n",
    "            \n",
    "            for itime in range(0,tmax):      \n",
    "                for k in range(0,thisI.Nalch):\n",
    "                    if icase == 0:\n",
    "                        fswap(tNumb)\n",
    "                        mint[layfoundword].fill(0)\n",
    "                        list_startwords = ffindnewwords(False,list_startwords,mint[layfoundword],tNumb) ##########                     \n",
    "                    if icase == 1:\n",
    "                        mint[laymod],mfulltext,loc_Nmod = falch(tNumb) ##########\n",
    "                        mint[layfoundword].fill(0)\n",
    "                        list_startwords = ffindnewwords(False,list_startwords,mint[layfoundword],tNumb) ##########\n",
    "                    if icase == 2:\n",
    "                        mfulltext, mint = fgrowforward(itime,tNumb) ##########\n",
    "                    Nmod += loc_Nmod\n",
    "                 \n",
    "                #clear_output(wait=True)\n",
    "                #run_button\n",
    "                fprintoutput(itime,icase,tNumb) ##########\n",
    "                #wout\n",
    "                    \n",
    "                time.sleep(0.05)\n",
    "                \n",
    "            iiter+=1"
   ]
  },
  {
   "cell_type": "code",
   "execution_count": 40,
   "id": "6c880cbe-2da6-4dd1-bdf6-879de7d5587e",
   "metadata": {
    "editable": true,
    "slideshow": {
     "slide_type": ""
    },
    "tags": [
     "hide"
    ]
   },
   "outputs": [],
   "source": [
    "# Dynamic Code"
   ]
  },
  {
   "cell_type": "code",
   "execution_count": null,
   "id": "8a7dcdfe-f655-4493-b87f-c10490d73249",
   "metadata": {
    "editable": true,
    "slideshow": {
     "slide_type": ""
    },
    "tags": []
   },
   "outputs": [],
   "source": [
    "from IPython.display import clear_output\n",
    "import time\n",
    "import string\n",
    "import ipywidgets as widgets\n",
    "\n",
    "asprat= 28.0/13.0\n",
    "\n",
    "fill_int='.'\n",
    "fill_ext='.'\n",
    "len_ext_fill = 0\n",
    "nfontsize=2.0\n",
    "\n",
    "tmax=300\n",
    "\n",
    "Nrowscreen = 45\n",
    "Ncolscreen = 180\n",
    "Ncolscreen = 167\n",
    "\n",
    "IS_swapon = True\n",
    "IS_htmlonly = False\n",
    "IS_manual = False\n",
    "\n",
    "Nrowtot = 0\n",
    "\n",
    "###########################################################################\n",
    "# Pick Algorithm:     0     cycle through all, 1     swap, 2     alch, 3     growforward\n",
    "ialgo = 0\n",
    "\n",
    "\n",
    "# Pick Shape:     0 triangle, 1 circle, 2 diamonds, 3 1 diamond, 4 rectangle, 5 star, 6 L corner, 7 star tess\n",
    "ishape = 0\n",
    "\n",
    "\n",
    "# Pick Poem:     0 reviver, 1 you and now, 2 level, 3 eve, 4 tenet\n",
    "ipoem = 0\n",
    "\n",
    "# star - reviver, circle - you and then, L corner - level, diamonds - eve, rectangle - tenet\n",
    "###########################################################################\n",
    "\n",
    "thisI=Inst()\n",
    "\n",
    "if ialgo == 0:\n",
    "    ialgobeg = 0\n",
    "    ialgoend = 3\n",
    "else:\n",
    "    ialgobeg = ialgo-1\n",
    "    ialgoend = ialgo\n",
    "\n",
    "Ncase = 3\n",
    "mscase=['swap','alch','growforward']\n",
    "\n",
    "#Random seed\n",
    "rand = np.random.default_rng().integers(0,len(valid_words))\n",
    "rand_word = list(valid_words)[rand]\n",
    "rnGenseed = pyrand.seed(rand_word)\n",
    "rnGen = np.random.default_rng(seed=rnGenseed)\n",
    "\n",
    "IS_keepgoing = True\n",
    "\n",
    "\n",
    "ipair = 0\n",
    "\n",
    "def runbutclick(b):     \n",
    "    IS_keepgoing = True\n",
    "    fdorun() \n",
    "#global wout\n",
    "clear_output(wait=False)\n",
    "wout = widgets.Output()\n",
    "display(wout)\n",
    "\n",
    "#fdorun()\n",
    "\n",
    "run_button = widgets.Button(\n",
    "      description = 'run'\n",
    ")\n",
    "run_button.on_click(runbutclick)\n",
    "display(run_button)\n",
    "\n",
    "IS_keepgoing = False\n",
    "\n",
    "#run_button\n",
    "\n",
    "\n",
    "\n",
    "#fdorun()\n",
    "\n",
    "\n",
    "    \n",
    "    "
   ]
  },
  {
   "cell_type": "code",
   "execution_count": null,
   "id": "ff8c7965-073d-4448-a1cf-29a2b516d5cf",
   "metadata": {
    "editable": true,
    "slideshow": {
     "slide_type": ""
    },
    "tags": []
   },
   "outputs": [],
   "source": []
  }
 ],
 "metadata": {
  "kernelspec": {
   "display_name": "Python 3 (ipykernel)",
   "language": "python",
   "name": "python3"
  },
  "language_info": {
   "codemirror_mode": {
    "name": "ipython",
    "version": 3
   },
   "file_extension": ".py",
   "mimetype": "text/x-python",
   "name": "python",
   "nbconvert_exporter": "python",
   "pygments_lexer": "ipython3",
   "version": "3.13.5"
  }
 },
 "nbformat": 4,
 "nbformat_minor": 5
}
