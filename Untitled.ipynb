{
 "cells": [
  {
   "cell_type": "code",
   "execution_count": 5,
   "id": "7c55e2d4-2f23-46f9-810c-e6e5dce5ef74",
   "metadata": {},
   "outputs": [],
   "source": [
    "from IPython.display import Image\n",
    "from IPython.display import Video\n",
    "import numpy as np\n",
    "#import matplotlib.pyplot as plt\n",
    "import numpy as np\n",
    "#import pandas as pd\n",
    "import os\n",
    "import sys\n",
    "import math\n",
    "from PIL import Image as IPIL\n",
    "from numpy import asarray\n",
    "import random as pyrand\n",
    "\n",
    "from IPython.display import Image\n",
    "import pygtrie\n",
    "\n",
    "from IPython.display import clear_output\n",
    "import time\n",
    "import string"
   ]
  },
  {
   "cell_type": "code",
   "execution_count": 10,
   "id": "81b0b68d-c8c9-4a91-9a99-a7d0d5bea170",
   "metadata": {},
   "outputs": [
    {
     "name": "stdout",
     "output_type": "stream",
     "text": [
      "ald flka  fd\n",
      "this test is going ... undetermined\n"
     ]
    }
   ],
   "source": [
    "\n",
    "\n",
    "\n",
    "for i in range(0,10):\n",
    "\n",
    "    str = ''\n",
    "\n",
    "    str+='ald flka  fd\\n'\n",
    "    str+='this test is going ... undetermined'\n",
    "    \n",
    "    clear_output(wait=True)\n",
    "\n",
    "    print(str,flush=True)\n",
    "        \n",
    "    time.sleep(0.1)    \n",
    "\n",
    "    \n",
    "\n"
   ]
  },
  {
   "cell_type": "code",
   "execution_count": null,
   "id": "892176f4-7c0b-4a37-a2e1-e9602b96d9a9",
   "metadata": {},
   "outputs": [],
   "source": []
  }
 ],
 "metadata": {
  "kernelspec": {
   "display_name": "Python 3 (ipykernel)",
   "language": "python",
   "name": "python3"
  },
  "language_info": {
   "codemirror_mode": {
    "name": "ipython",
    "version": 3
   },
   "file_extension": ".py",
   "mimetype": "text/x-python",
   "name": "python",
   "nbconvert_exporter": "python",
   "pygments_lexer": "ipython3",
   "version": "3.13.5"
  }
 },
 "nbformat": 4,
 "nbformat_minor": 5
}
