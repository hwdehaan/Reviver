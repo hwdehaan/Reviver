{
 "cells": [
  {
   "cell_type": "code",
   "execution_count": 1,
   "id": "78071067-d7af-4afc-9969-0f5fb0fc287d",
   "metadata": {},
   "outputs": [
    {
     "name": "stdout",
     "output_type": "stream",
     "text": [
      "7\n",
      "13\n",
      "23\n",
      "13\n",
      "29\n",
      "17\n",
      "25\n",
      "31\n",
      "33\n",
      "21\n",
      "21\n",
      "17\n",
      "['reviver', 'waking—waking', 'is possible—possible is', 'seeing—seeing', 'space is there—there is space', 'in words—works in', 'you can hear—here you can', 'everything stop—stop everything', 'see the violence—violence the sea', 'of filters—filters of', 'and strife—strife and', 'now rest—rest now']\n"
     ]
    },
    {
     "data": {
      "text/plain": [
       "'\\nAn infinite regress of spheres projecting forward\\nHands clasped, bridging the voids between\\nblood travels forward\\nhope travels back\\n'"
      ]
     },
     "execution_count": 1,
     "metadata": {},
     "output_type": "execute_result"
    }
   ],
   "source": [
    "\n",
    "\n",
    "\n",
    "poem1 = []\n",
    "poem1.append('reviver')\n",
    "poem1.append('waking—waking')\n",
    "poem1.append('is possible—possible is')\n",
    "poem1.append('seeing—seeing')\n",
    "poem1.append('space is there—there is space')\n",
    "poem1.append('in words—works in')\n",
    "poem1.append('you can hear—here you can')\n",
    "poem1.append('everything stop—stop everything')\n",
    "poem1.append('see the violence—violence the sea')\n",
    "poem1.append('of filters—filters of')\n",
    "poem1.append('and strife—strife and')\n",
    "poem1.append('now rest—rest now')\n",
    "\n",
    "for i in range(0,len(poem1)):\n",
    "    print(len(poem1[i]))\n",
    "\n",
    "print(poem1)\n",
    "\n",
    "\n",
    "'''\n",
    "An infinite regress of spheres projecting forward\n",
    "Hands clasped, bridging the voids between\n",
    "blood travels forward\n",
    "hope travels back\n",
    "'''\n",
    "\n",
    "\n",
    "\n",
    "#we met \n",
    "#will meet\n",
    "#are meeting\n",
    "#at a common now"
   ]
  },
  {
   "cell_type": "code",
   "execution_count": 3,
   "id": "240da214-9dc2-4403-8ad8-d57754299487",
   "metadata": {},
   "outputs": [],
   "source": [
    "fout = open('ptxt_2.html','w')\n",
    "\n",
    "def fmakeHTML(fout,poem):\n",
    "    len_buffer = 20\n",
    "    \n",
    "    \n",
    "    fout.write('<HTML>\\n')\n",
    "    \n",
    "    fout.write('<HEAD>\\n')\n",
    "    fout.write('<style> h1 {font-size: 1rem; font-family: courier; font-style: regular; font-weight: normal;)</style>\\n')\n",
    "    fout.write('</HEAD>\\n')\n",
    "    \n",
    "    fout.write('<BODY>\\n')\n",
    "    fout.write('<H1>\\n')\n",
    "    \n",
    "    fill = '_'\n",
    "    \n",
    "    for kk in range(0,3):\n",
    "        if kk%2 == 0:\n",
    "            shift = 0\n",
    "            for i in range(0,len(poem)):\n",
    "                for k in range(0,3):\n",
    "                    for j in range(0,len_buffer - int(len(poem2[i])/2)):\n",
    "                        fout.write(fill)\n",
    "                    fout.write(poem[i])\n",
    "                    for j in range(0,len_buffer - int(len(poem2[i])/2)):\n",
    "                        fout.write(fill)    \n",
    "                fout.write('</BR>\\n')\n",
    "        else:\n",
    "            shift = len_buffer/2\n",
    "            for i in range(0,len(poem2)):\n",
    "                for k in range(0,3):\n",
    "                    for j in range(int(len(poem[i])/2),int(len(poem[i]))):\n",
    "                        fout.write(poem[i][j])\n",
    "                    for j in range(0,(len_buffer - int(len(poem[i])/2))*2):\n",
    "                        fout.write(fill)\n",
    "                    for j in range(0,int(len(poem[i])/2)):\n",
    "                        fout.write(poem[i][j])   \n",
    "                fout.write('</BR>\\n')\n",
    "    \n",
    "    \n",
    "    \n",
    "    \n",
    "    fout.write('</H1>\\n')\n",
    "    fout.write('</BODY>\\n')\n",
    "    \n",
    "    fout.write('</HTML>\\n')\n",
    "    \n",
    "    fout.close()\n",
    "\n"
   ]
  },
  {
   "cell_type": "code",
   "execution_count": 26,
   "id": "cfdd8e0f-ec5f-4cce-b672-9dcef2e5b366",
   "metadata": {},
   "outputs": [
    {
     "name": "stdout",
     "output_type": "stream",
     "text": [
      "25\n",
      "If I examine all possible\n",
      "24\n",
      " paths extending from me\n",
      "20\n",
      " and you examine all\n",
      "15\n",
      " leading to you\n",
      "29\n",
      " lets pick the most promising\n",
      "13\n",
      " step forward\n",
      "10\n",
      " step back\n",
      "24\n",
      " we can will have me.e.t\n",
      "17\n",
      " at a commmon now\n"
     ]
    }
   ],
   "source": [
    "spoem2 =  'If I examine all possible, paths extending from me, and you examine all, leading to you, lets pick the most promising, step forward, step back, we can will have me.e.t, at a commmon now'\n",
    "poem2 = spoem2.split(',')\n",
    "for i in range(0,len(poem2)):\n",
    "    print(len(poem2[i]))\n",
    "    print((poem2[i]))\n",
    "\n",
    "fmakeHTML(fout,poem2)"
   ]
  },
  {
   "cell_type": "code",
   "execution_count": null,
   "id": "b3cc1276-95da-4409-bdde-02c643ccd13b",
   "metadata": {},
   "outputs": [],
   "source": []
  },
  {
   "cell_type": "code",
   "execution_count": null,
   "id": "9329c887-8890-408b-90c9-1de67cc42f03",
   "metadata": {},
   "outputs": [],
   "source": []
  },
  {
   "cell_type": "code",
   "execution_count": 30,
   "id": "1e57b714-c5ee-47ff-b1af-88317343e6c4",
   "metadata": {},
   "outputs": [
    {
     "name": "stdout",
     "output_type": "stream",
     "text": [
      "True\n"
     ]
    }
   ],
   "source": [
    "def load_words():\n",
    "    with open('words_alpha.txt') as word_file:\n",
    "        valid_words = set(word_file.read().split())\n",
    "\n",
    "    return valid_words\n",
    "\n",
    "\n",
    "if __name__ == '__main__':\n",
    "    english_words = load_words()\n",
    "    # demo print\n",
    "    print('fate' in english_words)"
   ]
  },
  {
   "cell_type": "code",
   "execution_count": null,
   "id": "e1207804-38c7-4f68-b8df-c7d31bdb4a23",
   "metadata": {},
   "outputs": [],
   "source": []
  }
 ],
 "metadata": {
  "kernelspec": {
   "display_name": "Python 3 (ipykernel)",
   "language": "python",
   "name": "python3"
  },
  "language_info": {
   "codemirror_mode": {
    "name": "ipython",
    "version": 3
   },
   "file_extension": ".py",
   "mimetype": "text/x-python",
   "name": "python",
   "nbconvert_exporter": "python",
   "pygments_lexer": "ipython3",
   "version": "3.11.5"
  }
 },
 "nbformat": 4,
 "nbformat_minor": 5
}
